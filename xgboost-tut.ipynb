{
 "cells": [
  {
   "cell_type": "code",
   "execution_count": 1,
   "metadata": {},
   "outputs": [],
   "source": [
    "# Define IAM role\n",
    "import boto3\n",
    "import re\n",
    "\n",
    "import os\n",
    "import numpy as np\n",
    "import pandas as pd\n",
    "from sagemaker import get_execution_role\n",
    "\n",
    "role = get_execution_role()"
   ]
  },
  {
   "cell_type": "code",
   "execution_count": 3,
   "metadata": {},
   "outputs": [],
   "source": [
    "import sagemaker as sage\n",
    "from time import gmtime, strftime\n",
    "\n",
    "sess = sage.Session()"
   ]
  },
  {
   "cell_type": "code",
   "execution_count": 4,
   "metadata": {},
   "outputs": [],
   "source": [
    "account = sess.boto_session.client('sts').get_caller_identity()['Account']"
   ]
  },
  {
   "cell_type": "code",
   "execution_count": 5,
   "metadata": {},
   "outputs": [
    {
     "name": "stdout",
     "output_type": "stream",
     "text": [
      "ap-northeast-1\n"
     ]
    }
   ],
   "source": [
    "region = sess.boto_session.region_name\n",
    "print(region)"
   ]
  },
  {
   "cell_type": "code",
   "execution_count": 6,
   "metadata": {},
   "outputs": [
    {
     "name": "stdout",
     "output_type": "stream",
     "text": [
      "360114749021.dkr.ecr.ap-northeast-1.amazonaws.com/bdai-test-docker-repo:latest\n"
     ]
    }
   ],
   "source": [
    "# define docker image url\n",
    "image_name = 'bdai-test-docker-repo'\n",
    "image = '{}.dkr.ecr.{}.amazonaws.com/{}:latest'.format(account, region, image_name)\n",
    "print(image)"
   ]
  },
  {
   "cell_type": "code",
   "execution_count": 7,
   "metadata": {},
   "outputs": [
    {
     "name": "stdout",
     "output_type": "stream",
     "text": [
      "s3://bdai-sagemaker-test/sagemaker/xgboost-tut/data/output\n"
     ]
    }
   ],
   "source": [
    "bucket = 'bdai-sagemaker-test'\n",
    "prefix = 'sagemaker/xgboost-tut/data'\n",
    "output_location  = 's3://{}/{}/output'.format(bucket, prefix)\n",
    "print(output_location)"
   ]
  },
  {
   "cell_type": "code",
   "execution_count": 8,
   "metadata": {},
   "outputs": [],
   "source": [
    "hyperparameters = {\n",
    "    \"max_depth\": 10\n",
    "}"
   ]
  },
  {
   "cell_type": "code",
   "execution_count": 17,
   "metadata": {},
   "outputs": [],
   "source": [
    "objective_metric_name = 'validation-accuracy'\n",
    "objective_metrics = [\n",
    "    {\n",
    "        \"Name\": \"validation-accuracy\",\n",
    "        \"Regex\": \"validation-accuracy=([0-9\\\\.]+)\"\n",
    "    }\n",
    "]"
   ]
  },
  {
   "cell_type": "code",
   "execution_count": 14,
   "metadata": {},
   "outputs": [],
   "source": [
    "from sagemaker.tuner import HyperparameterTuner, IntegerParameter, CategoricalParameter, ContinuousParameter\n",
    "hyperparameter_ranges = {\n",
    "    'max_depth': IntegerParameter(1, 10)\n",
    "}"
   ]
  },
  {
   "cell_type": "code",
   "execution_count": 9,
   "metadata": {},
   "outputs": [],
   "source": [
    "tree = sage.estimator.Estimator(image,\n",
    "                       role, 1, 'ml.m4.xlarge',\n",
    "                       output_path=output_location,\n",
    "                       sagemaker_session=sess,\n",
    "                       hyperparameters=hyperparameters)"
   ]
  },
  {
   "cell_type": "code",
   "execution_count": 18,
   "metadata": {},
   "outputs": [],
   "source": [
    "tunner = HyperparameterTuner(\n",
    "    tree,\n",
    "    objective_metric_name,\n",
    "    hyperparameter_ranges,\n",
    "    objective_metrics,\n",
    "    max_jobs=9\n",
    ")"
   ]
  },
  {
   "cell_type": "code",
   "execution_count": 10,
   "metadata": {},
   "outputs": [
    {
     "name": "stdout",
     "output_type": "stream",
     "text": [
      "s3://bdai-sagemaker-test/sagemaker/xgboost-tut/data/input/training\n",
      "s3://bdai-sagemaker-test/sagemaker/xgboost-tut/data/input/testing\n"
     ]
    }
   ],
   "source": [
    "training_data_location = 's3://{}/{}/input/training'.format(bucket, prefix)\n",
    "testing_data_location = 's3://{}/{}/input/testing'.format(bucket, prefix)\n",
    "print(training_data_location)\n",
    "print(testing_data_location)"
   ]
  },
  {
   "cell_type": "code",
   "execution_count": 19,
   "metadata": {},
   "outputs": [
    {
     "name": "stderr",
     "output_type": "stream",
     "text": [
      "INFO:sagemaker:Creating hyperparameter tuning job with name: bdai-test-docker-rep-180928-1037\n"
     ]
    }
   ],
   "source": [
    "tunner.fit({'training': training_data_location, 'testing': testing_data_location})"
   ]
  },
  {
   "cell_type": "code",
   "execution_count": 11,
   "metadata": {},
   "outputs": [
    {
     "name": "stderr",
     "output_type": "stream",
     "text": [
      "INFO:sagemaker:Creating training-job with name: bdai-test-docker-repo-2018-09-28-09-27-06-604\n"
     ]
    },
    {
     "name": "stdout",
     "output_type": "stream",
     "text": [
      "....................\n",
      "\u001b[31mStarting the training.\u001b[0m\n",
      "\u001b[31m{'max_depth': '10'}\u001b[0m\n",
      "\u001b[31m/usr/local/lib/python3.5/dist-packages/sklearn/preprocessing/label.py:151: DeprecationWarning: The truth value of an empty array is ambiguous. Returning False, but in future this will result in an error. Use `array.size > 0` to check that an array is not empty.\n",
      "  if diff:\u001b[0m\n",
      "\u001b[31m['setosa' 'setosa' 'setosa' 'setosa' 'setosa' 'setosa' 'setosa'\n",
      " 'virginica' 'versicolor' 'virginica' 'virginica' 'virginica' 'virginica'\n",
      " 'virginica' 'versicolor' 'versicolor' 'versicolor' 'versicolor'\n",
      " 'virginica' 'versicolor' 'versicolor' 'versicolor' 'versicolor'\n",
      " 'versicolor']\u001b[0m\n",
      "\u001b[31mTraining complete.\u001b[0m\n",
      "\n",
      "Billable seconds: 32\n"
     ]
    }
   ],
   "source": [
    "tree.fit({'training': training_data_location, 'testing': testing_data_location})"
   ]
  },
  {
   "cell_type": "code",
   "execution_count": 30,
   "metadata": {},
   "outputs": [
    {
     "data": {
      "text/plain": [
       "{'k': 1}"
      ]
     },
     "execution_count": 30,
     "metadata": {},
     "output_type": "execute_result"
    }
   ],
   "source": [
    "tree.hyperparameters()"
   ]
  },
  {
   "cell_type": "code",
   "execution_count": 12,
   "metadata": {},
   "outputs": [
    {
     "name": "stderr",
     "output_type": "stream",
     "text": [
      "INFO:sagemaker:Creating model with name: bdai-test-docker-repo-2018-09-26-04-33-50-006\n",
      "INFO:sagemaker:Creating endpoint with name bdai-test-docker-repo-2018-09-26-04-21-09-840\n"
     ]
    },
    {
     "name": "stdout",
     "output_type": "stream",
     "text": [
      "---------------------------------------------------------------!"
     ]
    }
   ],
   "source": [
    "from sagemaker.predictor import csv_serializer\n",
    "predictor = tree.deploy(1, 'ml.m4.xlarge', serializer=csv_serializer)"
   ]
  },
  {
   "cell_type": "code",
   "execution_count": 13,
   "metadata": {},
   "outputs": [],
   "source": [
    "import boto3\n",
    "client = boto3.client('sagemaker-runtime')"
   ]
  },
  {
   "cell_type": "code",
   "execution_count": 23,
   "metadata": {},
   "outputs": [],
   "source": [
    "# custom_attributes = \"c000b4f9-df62-4c85-a0bf-7c525f9104a4\"  # An example of a trace ID.\n",
    "endpoint_name = \"bdai-test-docker-repo-2018-09-26-04-21-09-840\"                                       # Your endpoint name.\n",
    "content_type = \"text/csv\"                                        # The MIME type of the input data in the request body.\n",
    "# accept = \"\"                                              # The desired MIME type of the inference in the response.\n",
    "payload = \"setosa,5.1,3.5,1.4,0.2\"                                             # Payload for inference."
   ]
  },
  {
   "cell_type": "code",
   "execution_count": 24,
   "metadata": {},
   "outputs": [
    {
     "name": "stdout",
     "output_type": "stream",
     "text": [
      "setosa\n",
      "\n"
     ]
    }
   ],
   "source": [
    "response = client.invoke_endpoint(\n",
    "    EndpointName=endpoint_name, \n",
    "    ContentType=content_type,\n",
    "    Body=payload\n",
    "    )\n",
    "response_body = response['Body']\n",
    "prediction = response_body.read().decode('utf-8')\n",
    "print(prediction)"
   ]
  },
  {
   "cell_type": "code",
   "execution_count": 31,
   "metadata": {},
   "outputs": [
    {
     "name": "stderr",
     "output_type": "stream",
     "text": [
      "INFO:sagemaker:Deleting endpoint with name: bdai-test-docker-repo-2018-09-26-04-21-09-840\n"
     ]
    }
   ],
   "source": [
    "import sagemaker\n",
    "sagemaker.Session().delete_endpoint(predictor.endpoint)"
   ]
  },
  {
   "cell_type": "code",
   "execution_count": null,
   "metadata": {},
   "outputs": [],
   "source": []
  }
 ],
 "metadata": {
  "kernelspec": {
   "display_name": "conda_python3",
   "language": "python",
   "name": "conda_python3"
  },
  "language_info": {
   "codemirror_mode": {
    "name": "ipython",
    "version": 3
   },
   "file_extension": ".py",
   "mimetype": "text/x-python",
   "name": "python",
   "nbconvert_exporter": "python",
   "pygments_lexer": "ipython3",
   "version": "3.6.5"
  }
 },
 "nbformat": 4,
 "nbformat_minor": 2
}
